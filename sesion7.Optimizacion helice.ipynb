{
 "cells": [
  {
   "cell_type": "markdown",
   "metadata": {},
   "source": [
    "# Práctica 3. Optimización de un modelo de ingeniería usando un algoritmo genético"
   ]
  },
  {
   "cell_type": "markdown",
   "metadata": {},
   "source": [
    "A menudo, en ingeniería tenemos simulaciones de un modelo y hay que optimizar sus parámetros sin disponer de una fórmula explícita que relacione los parámetros con el comportamiento del modelo. Nos plantearemos un problema de ese tipo: tenemos una función que calcula las propiedades de una hélice en función de una serie de parámetros, pero no conocemos los cálculos que hace internamente. Disponemos de una caja negra que es un modelo de simulación (créditos: Siro Moreno y Carlos Dorado)"
   ]
  },
  {
   "cell_type": "markdown",
   "metadata": {},
   "source": [
    "Aunque no es imprescindible conocer todos los detalles del modelo sí es recomendable familiarizarnos con los parámetros de configuración de la hélice que vamos a optimizar. "
   ]
  },
  {
   "cell_type": "code",
   "execution_count": 28,
   "metadata": {},
   "outputs": [],
   "source": [
    "#Sergio Martínez Olivera y Daniel Roldán Serrano\n",
    "from modelo.helice import *\n",
    "import math"
   ]
  },
  {
   "cell_type": "code",
   "execution_count": 2,
   "metadata": {
    "collapsed": false,
    "jupyter": {
     "outputs_hidden": false
    }
   },
   "outputs": [
    {
     "name": "stdout",
     "output_type": "stream",
     "text": [
      "Help on function calcular_helice in module modelo.helice:\n",
      "\n",
      "calcular_helice(omega, vz, R, b, h=0, theta0=0.174, tors_param=['h', 14], chord_params=0.05)\n",
      "    Calcula las propiedades de una hélice.\n",
      "\n",
      "    Argumentos obligatorios:\n",
      "\n",
      "        - omega: velocidad de giro de la hélice, en rad/s\n",
      "        - vz: velocidad de avance, en m/s\n",
      "        - R : radio de la hélice\n",
      "        - b : número de palas\n",
      "\n",
      "    Argumentos opcionales:\n",
      "\n",
      "        - h : altitud de vuelo, en metros sobre el nivel del mar\n",
      "        - theta0 : ángulo de paso colectivo\n",
      "        - tors_param : parámetros de torsión de la hélice:\n",
      "            formato: [ley, p]\n",
      "                p: Parámetro: número o lista\n",
      "                Ley:describe la forma de la ley de torsiones, y puede ser:\n",
      "                    - 'c': distribución de torsión constante = p\n",
      "                    - 'l': distribución de torsión lineal, con p[0] en la raíz y p[1] en la punta\n",
      "                    - 'h': distribución de torsión hiperbólica, con torsión p en la punta\n",
      "        - chord_params : parámetros de distribución de cuerda de la hélice.\n",
      "          Describe la forma de la pala, y puede ser:\n",
      "            - un número float: la cuerda es constante, con ese valor en metros\n",
      "            - una lista de la forma ['l', x1, x2 ]:\n",
      "                La cuerda es lineal con la posición, y mide x1 m en la raíz y x2 m en la punta\n",
      "    Devuelve:\n",
      "\n",
      "        - T : tracción de la hélice, en Newtons\n",
      "        - P : potencia de la hélice, en Watios\n",
      "        - efic : eficiencia o rendimiento de la hélice (a v=0 es 0 por definición)\n",
      "        - mach_punta : número de mach de las puntas de la hélice\n",
      "\n"
     ]
    }
   ],
   "source": [
    "help(calcular_helice)"
   ]
  },
  {
   "cell_type": "markdown",
   "metadata": {},
   "source": [
    "Lo primero que tendrás que hacer es definir una representación adecuada para los cromosomas que representan un diseño de la hélice en base a sus parámetros. Nuestra hélice depende de varios parámetros que queremos optimizar. Podemos decidir optimizar algunos mateniendo un valor controlado de otros. \n",
    "\n",
    "***Como sugerencia*** se proponen los siguientes parámetros de optimización: \n",
    "\n",
    "- omega (velocidad de rotación) (Entre 0 y 200 radianes/segundo)\n",
    "- R (radio de la hélice) (Entre 0.1 y 2 metros)\n",
    "- b (número de palas) (Entre 2 y 5 palas) \n",
    "- theta0 (ángulo de paso colectivo) (Entre -0.26 y 0.26 radianes)(*se corresponde a -15 y 15 grados*)\n",
    "- p (parámetro de torsión) (Entre -5 y 20 grados)\n",
    "- cuerda (anchura de la pala) (Entre 0.01 y 0.2 metros)\n",
    "\n",
    "y fijar los parámetros:\n",
    "- vz (velocidad de vuelo)\n",
    "- h (altura de vuelo)"
   ]
  },
  {
   "cell_type": "markdown",
   "metadata": {},
   "source": [
    "Ten en cuenta que necesitarás funciones de decodificación hay que transformar la representación binaria en variables con sentido físico. Por ejemplo, si el entero de la variable Omega está entre 0 y 1023 (10bits), pero la variable Omega real estará entre 0 y 200 radianes por segundo, el valor se calcula como:\n",
    "    omega = genes[0] * 200 / 1023\n",
    "    \n",
    "del mismo modo, para R:\n",
    "    R =  0.1 + genes[1] * 1.9 / 1023 #Obtendremos un radio entre 0.1 y 2 metros\n",
    "    \n",
    "El número de palas debe ser un entero:\n",
    "    b = genes[2] + 2 #(entre 2 y 5 palas)\n",
    "    \n",
    "    \n",
    "Para la función de fitness usaremos la función que calcula el desempeño del rotor según sus parámetros:\n",
    "\n",
    "    T, P, efic, mach_punta = calcular_rotor(omega, vz, R, b, h...) #Introduce las variables que uses de parámetro.\n",
    "                                                                # Consulta la ayuda para asegurarte de que usas el \n",
    "                                                                # formato correcto!\n",
    "Recuerda que T es la tracción de la hélice, P es la Potencia consumida por la hélice, efic representa la eficiencia propulsiva de la hélice y mach_punta representa el mach en la punta de las palas. El número de mach en las puntas de la hélice se refiere a la velocidad relativa de las puntas de la hélice con respecto a la velocidad del sonido en el aire circundante.\n",
    "\n",
    "Antes de seguir vamos a observar en las gráficas cómo cambian las características de la hélice (tracción, potencia, eficiencia y mach de las puntas) para cada valor de velocidad de vuelto (avance en m/s). Fijamos unos ciertos parámetros para ver el desempeño de la hélice.    "
   ]
  },
  {
   "cell_type": "code",
   "execution_count": 3,
   "metadata": {},
   "outputs": [],
   "source": [
    "%matplotlib inline\n",
    "import matplotlib.pyplot as plt\n",
    "import random"
   ]
  },
  {
   "cell_type": "code",
   "execution_count": 4,
   "metadata": {},
   "outputs": [],
   "source": [
    "vel = np.linspace(0, 30, 100)\n",
    "h = np.linspace(0, 100, 100)\n",
    "# La función linspace() devuelve 100 valores espaciados uniformemente dentro del intervalo especificado [0, ] \n",
    "# zeros_like return an array of zeros with the same shape and type as a given array.\n",
    "efic = np.zeros_like(vel)\n",
    "T = np.zeros_like(vel)\n",
    "P = np.zeros_like(vel)\n",
    "mach = np.zeros_like(vel)\n",
    "for i in range(len(vel)):\n",
    "    T[i], P[i], efic[i], mach[i] = calcular_helice(130, vel[i], 0.5, 3)"
   ]
  },
  {
   "cell_type": "code",
   "execution_count": 5,
   "metadata": {
    "collapsed": false,
    "jupyter": {
     "outputs_hidden": false
    }
   },
   "outputs": [
    {
     "data": {
      "text/plain": [
       "Text(0.5, 1.0, 'Eficiencia de la hélice')"
      ]
     },
     "execution_count": 5,
     "metadata": {},
     "output_type": "execute_result"
    },
    {
     "data": {
      "image/png": "[encoded data removed]",
      "text/plain": [
       "<Figure size 640x480 with 1 Axes>"
      ]
     },
     "metadata": {},
     "output_type": "display_data"
    }
   ],
   "source": [
    "plt.plot(vel, efic)\n",
    "plt.title('Eficiencia de la hélice')"
   ]
  },
  {
   "cell_type": "code",
   "execution_count": 6,
   "metadata": {
    "collapsed": false,
    "jupyter": {
     "outputs_hidden": false
    },
    "scrolled": true
   },
   "outputs": [
    {
     "data": {
      "text/plain": [
       "Text(0.5, 1.0, 'Tracción de la hélice')"
      ]
     },
     "execution_count": 6,
     "metadata": {},
     "output_type": "execute_result"
    },
    {
     "data": {
      "image/png": "[encoded data removed]",
      "text/plain": [
       "<Figure size 640x480 with 1 Axes>"
      ]
     },
     "metadata": {},
     "output_type": "display_data"
    }
   ],
   "source": [
    "plt.plot(vel, T)\n",
    "plt.title('Tracción de la hélice')"
   ]
  },
  {
   "cell_type": "code",
   "execution_count": 7,
   "metadata": {
    "collapsed": false,
    "jupyter": {
     "outputs_hidden": false
    }
   },
   "outputs": [
    {
     "data": {
      "text/plain": [
       "Text(0.5, 1.0, 'Potencia consumida')"
      ]
     },
     "execution_count": 7,
     "metadata": {},
     "output_type": "execute_result"
    },
    {
     "data": {
      "image/png": "[encoded data removed]",
      "text/plain": [
       "<Figure size 640x480 with 1 Axes>"
      ]
     },
     "metadata": {},
     "output_type": "display_data"
    }
   ],
   "source": [
    "plt.plot(vel, P)\n",
    "plt.title('Potencia consumida')"
   ]
  },
  {
   "cell_type": "code",
   "execution_count": 8,
   "metadata": {
    "collapsed": false,
    "jupyter": {
     "outputs_hidden": false
    }
   },
   "outputs": [
    {
     "data": {
      "text/plain": [
       "Text(0.5, 1.0, 'Mach en la punta de las palas')"
      ]
     },
     "execution_count": 8,
     "metadata": {},
     "output_type": "execute_result"
    },
    {
     "data": {
      "image/png": "[encoded data removed]",
      "text/plain": [
       "<Figure size 640x480 with 1 Axes>"
      ]
     },
     "metadata": {},
     "output_type": "display_data"
    }
   ],
   "source": [
    "plt.plot(vel, mach)\n",
    "plt.title('Mach en la punta de las palas')"
   ]
  },
  {
   "cell_type": "code",
   "execution_count": 9,
   "metadata": {},
   "outputs": [],
   "source": [
    "#Observando las gráficas, podemos deducir que un valor adecuado para fijar la velocidad de vuelo (como se recomienda en el enunciado) puede ser 15 m/s."
   ]
  },
  {
   "cell_type": "markdown",
   "metadata": {},
   "source": [
    "Si quieres puedes observar también el impacto del resto de parámetros. \n",
    "\n",
    "Para la ejecución del algoritmo tendrás que definir una **función de fitness** adecuada según lo que decidas optimizar.\n",
    "\n",
    "Por ejemplo, si buscáramos que tuviera la tracción máxima sin preocuparnos de nada más, el valor de fitnes sería simplemente igual al de T:\n",
    "\n",
    "    fitness = T\n",
    "\n",
    "Si queremos imponer restricciones, por ejemplo, que la potencia sea menor a 1000 watios, se pueden añadir sentencias del tipo:\n",
    "\n",
    "    if P > 1000:\n",
    "        fitness -= 1000\n",
    "        \n",
    "Si queremos optimizar varias salidas podemos hacerlo de manera ponderada:\n",
    "\n",
    "    fitness = parámetro_importante * 10 + parámetro_poco_importante * 0.5\n",
    "    \n",
    "También se pueden combinar diferentes funciones no lineales:\n",
    "\n",
    "    fitness = parámetro_1 * parámetro_2 - parámetro_3 **2 * log(parámetro_4)\n",
    "\n",
    "Puedes elegir con qué objetivo quieres optimizar la hélice pero te hacemos algunas sugerencias de posibles objetivos de optimización:\n",
    "\n",
    "    - Maximizar la tracción (manteniendo una tracción mínima de 30 Newtons) con el mínimo radio posible.\n",
    "    - Mínima potencia consumida posible, máxima eficiencia propulsiva, y mínimo radio posible (sin ser este criterio muy importante), manteniendo una tracción mínima de 40 Newtons y un mach en la punta de las palas de como mucho 0.7\n",
    "    - Máximizar la eficiencia cuando vuela a 70 m/s, y maximizar la tracción por encima de 50 Newtons para el despegue (vz = 0)    "
   ]
  },
  {
   "cell_type": "markdown",
   "metadata": {},
   "source": [
    "### Se pide utilizar un algoritmo genético para encontrar la mejor configuración de parámetros para el modelo de hélice dado y comentar los resultados obtenidos. \n",
    "\n",
    "Documentar convenientemente el código y justificar las decisiones para la configuración del algoritmo genético. "
   ]
  },
  {
   "cell_type": "code",
   "execution_count": 121,
   "metadata": {},
   "outputs": [],
   "source": [
    "\"\"\"Argumentos obligatorios:\n",
    "\n",
    "        - omega: velocidad de giro de la hélice, en rad/s\n",
    "        - vz: velocidad de avance, en m/s\n",
    "        - R : radio de la hélice\n",
    "        - b : número de palas\n",
    "\n",
    "    Argumentos opcionales:\n",
    "\n",
    "        - h : altitud de vuelo, en metros sobre el nivel del mar\n",
    "        - theta0 : ángulo de paso colectivo\n",
    "        - tors_param : parámetros de torsión de la hélice:\n",
    "            formato: [ley, p]\n",
    "                p: Parámetro: número o lista\n",
    "                Ley:describe la forma de la ley de torsiones, y puede ser:\n",
    "                    - 'c': distribución de torsión constante = p\n",
    "                    - 'l': distribución de torsión lineal, con p[0] en la raíz y p[1] en la punta\n",
    "                    - 'h': distribución de torsión hiperbólica, con torsión p en la punta\n",
    "        - chord_params : parámetros de distribución de cuerda de la hélice.\n",
    "          Describe la forma de la pala, y puede ser:\n",
    "            - un número float: la cuerda es constante, con ese valor en metros\n",
    "            - una lista de la forma ['l', x1, x2 ]:\n",
    "                La cuerda es lineal con la posición, y mide x1 m en la raíz y x2 m en la punta\n",
    "    Devuelve:\n",
    "\n",
    "        - T : tracción de la hélice, en Newtons\n",
    "        - P : potencia de la hélice, en Watios\n",
    "        - efic : eficiencia o rendimiento de la hélice (a v=0 es 0 por definición)\n",
    "        - mach_punta : número de mach de las puntas de la hélice\n",
    "\n",
    "        en en cuenta que necesitarás funciones de decodificación hay que transformar la representación binaria en variables con sentido físico. Por ejemplo, si el entero de la variable Omega está entre 0 y 1023 (10bits), pero la variable Omega real estará entre 0 y 200 radianes por segundo, el valor se calcula como: omega = genes[0] * 200 / 1023\n",
    "\n",
    "del mismo modo, para R: R = 0.1 + genes[1] * 1.9 / 1023 #Obtendremos un radio entre 0.1 y 2 metros\n",
    "\n",
    "El número de palas debe ser un entero: b = genes[2] + 2 #(entre 2 y 5 palas)\n",
    "\n",
    "Para la función de fitness usaremos la función que calcula el desempeño del rotor según sus parámetros:\n",
    "\n",
    "T, P, efic, mach_punta = calcular_rotor(omega, vz, R, b, h...) #Introduce las variables que uses de parámetro.\n",
    "                                                            # Consulta la ayuda para asegurarte de que usas el \n",
    "                                                            # formato correcto!\n",
    "\n",
    "Recuerda que T es la tracción de la hélice, P es la Potencia consumida por la hélice, efic representa la eficiencia propulsiva de la hélice y mach_punta representa el mach en la punta de las palas. El número de mach en las puntas de la hélice se refiere a la velocidad relativa de las puntas de la hélice con respecto a la velocidad del sonido en el aire circundante.\n",
    "\n",
    "Antes de seguir vamos a observar en las gráficas cómo cambian las características de la hélice (tracción, potencia, eficiencia y mach de las puntas) para cada valor de velocidad de vuelto (avance en m/s). Fijamos unos ciertos parámetros para ver el desempeño de la hélice. \n",
    "        \n",
    "        \n",
    "        \n",
    "        \n",
    "        \"\"\"\n",
    "\n",
    "\n",
    "class ProblemaGeneticoHelice(object):\n",
    "        def __init__(self,fun_dec,fun_muta , fun_cruza, fun_fitness):\n",
    "            self.fun_dec = fun_dec\n",
    "            self.fun_cruza = fun_cruza\n",
    "            self.fun_muta = fun_muta\n",
    "            self.fun_fitness = fun_fitness\n",
    "                \n",
    "        def decodifica(self, genotipo):\n",
    "            \"\"\"Devuelve el fenotipo a partir del genotipo\"\"\"\n",
    "            fenotipo = self.fun_dec(genotipo)\n",
    "            return fenotipo\n",
    "        \n",
    "        def muta(self, cromosoma,prob):\n",
    "            \"\"\"Devuelve el cromosoma mutado\"\"\"   \n",
    "            mutante = self.fun_muta(cromosoma,prob)\n",
    "            return mutante\n",
    "        \n",
    "        def cruza(self, cromosoma1, cromosoma2):         \n",
    "            \"\"\"Devuelve el cruce de un par de cromosomas\"\"\"\n",
    "            cruce = self.fun_cruza(cromosoma1,cromosoma2)\n",
    "            return cruce \n",
    "        \n",
    "        def fitness(self, cromosoma):    \n",
    "            \"\"\"Función de valoración\"\"\"\n",
    "            valoracion = self.fun_fitness(cromosoma)\n",
    "            return valoracion\n",
    "\n",
    "\n",
    "def decodificacion(genes): #Decodificación genérica (velocidad de avance fijada 15 y altura por defecto, fijada a 0)\n",
    "    fenotipo = []\n",
    "    fenotipo.append(genes[0] * (200 / 1023)) ##omega (velocidad de rotación)\n",
    "    fenotipo.append(15) ##vz (velocidad de avance)\n",
    "    fenotipo.append(0.1 + ((genes[2] * 1.9) / 1023)) ##R (radio de la hélice)\n",
    "    fenotipo.append(2 + math.trunc((genes[3]*3)/1023)) ##número palas \n",
    "    fenotipo.append(0) ##h (altura de vuelo)\n",
    "    fenotipo.append(-15 + ((genes[5]*30)/1023)) ##theta0   (angulo de paso colectivo)          pasar la división a entero???\n",
    "    fenotipo.append(-5 + ((genes[6]*25)/1023)) ##p (parámetro de torsión)\n",
    "    fenotipo.append(0.01 + ((genes[7]*0.19)/1023)) ##cuerda (anchura de la pala)\n",
    "    return fenotipo\n",
    "\n",
    "def decodificacion_despegue(genes): #Decodificación para el despegue (velocidad de avance fijada a 0)\n",
    "    fenotipo = []\n",
    "    fenotipo.append(genes[0] * (200 / 1023)) ##omega (velocidad de rotación)\n",
    "    fenotipo.append(0) ##vz (velocidad de avance)\n",
    "    fenotipo.append(0.1 + ((genes[2] * 1.9) / 1023)) ##R (radio de la hélice)\n",
    "    fenotipo.append(2 + math.trunc((genes[3]*3)/1023)) ##número palas \n",
    "    fenotipo.append(0) ##h (altura de vuelo)\n",
    "    fenotipo.append(-15 + ((genes[5]*30)/1023)) ##theta0   (angulo de paso colectivo)          pasar la división a entero???\n",
    "    fenotipo.append(-5 + ((genes[6]*25)/1023)) ##p (parámetro de torsión)\n",
    "    fenotipo.append(0.01 + ((genes[7]*0.19)/1023)) ##cuerda (anchura de la pala)\n",
    "    return fenotipo\n",
    "\n",
    "def decodificacion_70(genes): #Decodificación a 70 m/s (velocidad de avance fijada a 70 m/s)\n",
    "    fenotipo = []\n",
    "    fenotipo.append(genes[0] * (200 / 1023)) ##omega (velocidad de rotación)\n",
    "    fenotipo.append(70) ##vz (velocidad de avance)\n",
    "    fenotipo.append(0.1 + ((genes[2] * 1.9) / 1023)) ##R (radio de la hélice)\n",
    "    fenotipo.append(2 + math.trunc((genes[3]*3)/1023)) ##número palas \n",
    "    fenotipo.append(0) ##h (altura de vuelo)\n",
    "    fenotipo.append(-15 + ((genes[5]*30)/1023)) ##theta0   (angulo de paso colectivo)          pasar la división a entero???\n",
    "    fenotipo.append(-5 + ((genes[6]*25)/1023)) ##p (parámetro de torsión)\n",
    "    fenotipo.append(0.01 + ((genes[7]*0.19)/1023)) ##cuerda (anchura de la pala)\n",
    "    return fenotipo\n",
    "\n",
    "def fitness1(cromosoma): ##Maximizar la tracción (manteniendo una tracción mínima de 30 Newtons) con el mínimo radio posible.\n",
    "    aux = decodificacion(cromosoma)\n",
    "    T, P, efic, mach_punta = calcular_helice(aux[0], aux[1], aux[2], aux[3], aux[4], aux[5], ['h', aux[6]], aux[7])\n",
    "    if T < 30:\n",
    "        return -1000\n",
    "    else:\n",
    "        return T - 1400*aux[2] ##Queremos maximizar la tracción (de ahí sumar T) y minimizar el radio (de ahí restar aux[2] = R) para que la función\n",
    "                            ##de fitness sea lo mayor posible cuanto mayor sea la tracción y menor sea el radio. Otorgamos la misma importancia a la optimización de ambos parámetros.\n",
    "\n",
    "\n",
    "def fitness2(cromosoma): ##Maximizar la eficiencia cuando vuela a 70 m/s, y maximizar la tracción por encima de 50 Newtons para el despegue (vz = 0)    \n",
    "    aux = decodificacion(cromosoma)\n",
    "    T1, P1, efic1, mach_punta1 = calcular_helice(aux[0], 70, aux[2], aux[3], aux[4], aux[5], ['h', aux[6]], aux[7]) ##Fijamos la velocidad de avance a 70 m/s\n",
    "    T2, P2, efic2, mach_punta2 = calcular_helice(aux[0], 0, aux[2], aux[3], aux[4], aux[5], ['h', aux[6]], aux[7]) ##Fijamos la velocidad de avance a 0 m/s, es decir, el momento del despegue\n",
    "\n",
    "    if (T2 < 50):\n",
    "        return -1000\n",
    "    else:\n",
    "        return efic1 + T2 ##Sumamos la eficacia obtenida al volar a 70 m/s con la tracción obtenida en el despegue, a 0 m/s, dado que queremos maximizar ambos.\n",
    "\n",
    "def muta1(cromosoma, prob):\n",
    "    #Elegimos un parámetro del cromosoma\n",
    "    l = len(cromosoma)\n",
    "    p = random.randint(0,l-1)\n",
    "    \n",
    "    #Si la probabilidad es favorable, el parámetro se divide entre 2 (para no salirnos de su rango de valores)\n",
    "    if prob > random.uniform(0,1):\n",
    "            cromosoma[p]= cromosoma[p]/2\n",
    "    return cromosoma\n",
    "    \n",
    "\n",
    "def muta2(cromosoma, prob):\n",
    "    #Elegimos dos parámetros del cromosoma\n",
    "    l = len(cromosoma)\n",
    "    p1 = random.randint(0,l-1)\n",
    "    p2 = random.randint(0,l-1)\n",
    "    \n",
    "    #Queremos que los parámetros sean distintos\n",
    "    while p1==p2:\n",
    "        p2 = random.randint(0,l-1)\n",
    "    \n",
    "    #Si la probabilidad es favorable, dividimos entre 2 ambos parámetros\n",
    "    if prob > random.uniform(0,1):\n",
    "        cromosoma[p1]= cromosoma[p1]/2\n",
    "        cromosoma[p2]= cromosoma[p2]/2\n",
    "    return cromosoma\n",
    "\n",
    "\n",
    "#Funcion de cruze por orden\n",
    "def cruzarOrden(cromosoma1, cromosoma2):\n",
    "    l = len(cromosoma1)\n",
    "    p1 = random.randint(0,l-1) #Elegimos el primer punto\n",
    "    p2 = random.randint(p1,l-1) #Elegimos el segundo punto\n",
    "    #Realizamos los dos cruces\n",
    "    cruzar1 = orden(cromosoma1,cromosoma2,p1,p2)\n",
    "    cruzar2 = orden(cromosoma2,cromosoma1,p1,p2)\n",
    "    return [cruzar1,cruzar2]\n",
    "\n",
    "def orden(cP,cH,p1,p2):\n",
    "    salida =[]\n",
    "    for _ in range(len(cP)):\n",
    "        salida.append(0)\n",
    "    \n",
    "    for i in range(p1,p2+1):\n",
    "        salida[i]=cP[i]\n",
    "        \n",
    "    index=p2+1\n",
    "    indexcH=p2+1\n",
    "    while salida[index%len(salida)]==0:\n",
    "        while cH[indexcH%len(cH)] in salida:\n",
    "            indexcH+=1\n",
    "        salida[index%len(salida)]=cH[indexcH%len(cH)]\n",
    "        index+=1\n",
    "        \n",
    "    return salida\n",
    "    "
   ]
  },
  {
   "cell_type": "code",
   "execution_count": 59,
   "metadata": {},
   "outputs": [],
   "source": [
    "def poblacion_inicial(size):\n",
    "    l=[] # población inicial\n",
    "    for i in range(size): # añadimos a la población size individuos\n",
    "        j = 0\n",
    "        cromosoma = []\n",
    "        #Construimos cada cromosoma otorgando a los 8 parámetros que necesitamos un valor aleatorio entre 0 y 1024.\n",
    "        while j < 8:\n",
    "            cromosoma.append(random.randint(0,1023))\n",
    "            j = j + 1\n",
    "        l.append(cromosoma) #Añadimos el cromosoma a la lista de la población inicial.\n",
    "    return l\n",
    "\n",
    "#Funcion que craza los padres de forma NO destructiva, es decir se queda con los dos mejores entre los hijos y los padres\n",
    "def cruza_padres_NO_destructiva(problema_genetico,padres):\n",
    "    l = []\n",
    "    for i in range(len(padres)//2):\n",
    "        padre1=padres[2*i]\n",
    "        padre2=padres[2*i+1]\n",
    "        desc = problema_genetico.cruza(padre1,padre2)\n",
    "        \n",
    "        lista = [padre1,padre2,desc[0],desc[1]]\n",
    "        \n",
    "        mejores=sorted(lista,key=problema_genetico.fitness,reverse=True)\n",
    "        \n",
    "        l.append(mejores[0]) \n",
    "        l.append(mejores[1])\n",
    "    return l\n",
    "\n",
    "#Función para llevar a cabo las mutaciones\n",
    "def muta_individuos(problema_genetico, poblacion, prob):\n",
    "    l = []\n",
    "    for i in poblacion:\n",
    "        l.append(problema_genetico.muta(i,prob))\n",
    "    return l\n",
    "\n",
    "#Función para llevar a cabo la selección\n",
    "def seleccion_por_torneo(problema_genetico, poblacion, n, k, opt):\n",
    "    seleccionados = []\n",
    "    for i in range(n):\n",
    "        participantes = random.sample(poblacion,k)\n",
    "        seleccionado = opt(participantes, key=problema_genetico.fitness)\n",
    "        opt(poblacion, key=problema_genetico.fitness)\n",
    "        seleccionados.append(seleccionado)\n",
    "    return seleccionados  \n",
    "\n",
    "#Función para construir la nueva generación\n",
    "def nueva_generacion(problema_genetico, k,opt, poblacion, n_padres, n_directos,cruza_padres,prob_mutar):\n",
    "    padres2 = seleccion_por_torneo(problema_genetico, poblacion, n_directos, k,opt) \n",
    "    padres1 = seleccion_por_torneo(problema_genetico, poblacion, n_padres , k, opt)\n",
    "    cruces =  cruza_padres(problema_genetico,padres1)\n",
    "    generacion = padres2+cruces\n",
    "    resultado_mutaciones = muta_individuos(problema_genetico, generacion, prob_mutar)\n",
    "    return resultado_mutaciones"
   ]
  },
  {
   "cell_type": "code",
   "execution_count": null,
   "metadata": {},
   "outputs": [],
   "source": [
    "def algoritmo_genetico(problema_genetico,k,opt,ngen,size,cruzar,prop_cruces,prob_mutar):\n",
    "    poblacion= poblacion_inicial(size)\n",
    "    n_padres=round(size*prop_cruces)\n",
    "    n_padres= int (n_padres if n_padres%2==0 else n_padres-1)\n",
    "    n_directos = size-n_padres\n",
    "    for _ in range(ngen):\n",
    "        poblacion= nueva_generacion(problema_genetico,k,opt,poblacion,n_padres, n_directos,cruzar,prob_mutar)\n",
    "\n",
    "    mejor_cr= opt(poblacion, key=problema_genetico.fitness)\n",
    "    mejor=problema_genetico.decodifica(mejor_cr)\n",
    "    return (mejor,problema_genetico.fitness(mejor_cr), calcular_helice(mejor[0], mejor[1], mejor[2], mejor[3], mejor[4], mejor[5], ['h', mejor[6]], mejor[7])) "
   ]
  },
  {
   "cell_type": "code",
   "execution_count": null,
   "metadata": {},
   "outputs": [],
   "source": [
    "#Vamos a probar en primer lugar el correcto funcionamiento de cada fitness, cada uno con las dos mutaciones propuestas y con un cruce no destructivo, que como ya sabemos es más recomendable\n",
    "#porque no permite empeorar."
   ]
  },
  {
   "cell_type": "code",
   "execution_count": 129,
   "metadata": {},
   "outputs": [
    {
     "name": "stdout",
     "output_type": "stream",
     "text": [
      "Valor obtenido=24313.22218954978\n",
      "Solucion Obtenida:\n",
      "[186.3147605083089, 15, 1.8439882697947214, 4, 0, 0.19061583577712682, 13.768328445747802, 0.18235581622678398]\n",
      "Valores:\n",
      "(26894.805767262387, 3801313.909484284, 0.10612701190038451, 1.0112059370882904)\n"
     ]
    }
   ],
   "source": [
    "helice = ProblemaGeneticoHelice(decodificacion,muta1,cruzarOrden,fitness1)              \n",
    "salida = algoritmo_genetico(helice,5,max,6,100,cruza_padres_NO_destructiva,0.7,0.2)\n",
    "print(f\"Valor obtenido={salida[1]}\\nSolucion Obtenida:\\n{salida[0]}\\nValores:\\n{salida[2]}\")\n"
   ]
  },
  {
   "cell_type": "code",
   "execution_count": 130,
   "metadata": {},
   "outputs": [
    {
     "name": "stdout",
     "output_type": "stream",
     "text": [
      "Valor obtenido=21400.06755242639\n",
      "Solucion Obtenida:\n",
      "[186.70576735092862, 15, 1.9312805474095796, 3, 0, -0.014662756598241344, 19.731182795698924, 0.19907135874877813]\n",
      "Valores:\n",
      "(24103.8603187998, 2943784.7905188953, 0.12282076663568396, 1.0612048138065047)\n"
     ]
    }
   ],
   "source": [
    "helice = ProblemaGeneticoHelice(decodificacion,muta2,cruzarOrden,fitness1)              \n",
    "salida = algoritmo_genetico(helice,5,max,6,100,cruza_padres_NO_destructiva,0.7,0.2)\n",
    "print(f\"Valor obtenido={salida[1]}\\nSolucion Obtenida:\\n{salida[0]}\\nValores:\\n{salida[2]}\")\n",
    "#Recordamos que fitness 1 pretende minimizar el radio y maximizar la tracción, y como se aprecia en ambas salidas, consigue en parte su objetivo.\n",
    "#Por un lado, observamos que en la salida 2 la tracción es elevada, del orden de 10^4, luego, se maximiza adecuadamente. En la salida 1 la tracción también toma un valor elevado,\n",
    "#pero del orden 10^3, algo menor que en el segundo caso. Sin embargo, el radio no se minimiza en ninguna de las dos salidas,\n",
    "#dado que en ambos casos toma un valor cercano a 2, que es su límite superior. Esto se debe a que debido a que los valores que puede tomar el raadio son muy pequeños,\n",
    "#el hecho de que tome valores elevados dentro de su rango no provoca que el fitness sea peor, dado que la tracción tma valores muy elevados. Hemos probado a \n",
    "#multiplicar el radio en la función de fitness por 100, 1000,10000, pero el algoritmo funcionaba incluso peor, dado que de esta manera el algoritmo no llegaba a los mínimos necesarios de tracción, a pesar de mninimizar el radio."
   ]
  },
  {
   "cell_type": "code",
   "execution_count": 128,
   "metadata": {},
   "outputs": [
    {
     "name": "stdout",
     "output_type": "stream",
     "text": [
      "Valor obtenido=42172.08022588857\n",
      "Solucion Obtenida:\n",
      "[177.32160312805473, 0, 1.992570869990225, 4, 0, 0.48387096774193594, -1.8352883675464322, 0.1983284457478006]\n",
      "Valores:\n",
      "(42171.565473992174, 4078648.2050427706, 0.0, 1.0389534391473474)\n"
     ]
    }
   ],
   "source": [
    "helice = ProblemaGeneticoHelice(decodificacion_despegue,muta1,cruzarOrden,fitness2)              \n",
    "salida = algoritmo_genetico(helice,5,max,6,100,cruza_padres_NO_destructiva,0.7,0.2)\n",
    "print(f\"Valor obtenido={salida[1]}\\nSolucion Obtenida:\\n{salida[0]}\\nValores:\\n{salida[2]}\")"
   ]
  },
  {
   "cell_type": "code",
   "execution_count": 65,
   "metadata": {},
   "outputs": [
    {
     "name": "stdout",
     "output_type": "stream",
     "text": [
      "Valor obtenido=44209.090561008365\n",
      "Solucion Obtenida:\n",
      "[192.1798631476051, 70, 1.936852394916911, 4, 0, 0.5131964809384169, -1.4015151515151514, 0.19238514173998048]\n",
      "Valores:\n",
      "(27939.08077351605, 3837161.704093648, 0.5096828867179772, 1.1137097868719985)\n"
     ]
    }
   ],
   "source": [
    "helice = ProblemaGeneticoHelice(decodificacion_70,muta2,cruzarOrden,fitness2)              \n",
    "salida = algoritmo_genetico(helice,5,max,6,100,cruza_padres_NO_destructiva,0.7,0.2)\n",
    "print(f\"Valor obtenido={salida[1]}\\nSolucion Obtenida:\\n{salida[0]}\\nValores:\\n{salida[2]}\")\n",
    "#Recordamos que fitness 2 maximiza la potencia a 70 m/s y maximiza la tracción en el despegue, es decir, a 0 m/s.\n",
    "#Observamos unos buenos resultados en ambas salidas, con buenos fitness, elevada potencia (del orden 10^6) con 70m/s y una tracción adecuada (orden 10^4) en el despegue. Utilizamos para la primera salida una decodificación que fija la velocidad a 0 y en la\n",
    "#segunda de ellas una decodificación que fija la velocidad a 70."
   ]
  },
  {
   "cell_type": "code",
   "execution_count": 93,
   "metadata": {},
   "outputs": [
    {
     "name": "stdout",
     "output_type": "stream",
     "text": [
      "Valor obtenido=5388.599449229335\n",
      "Solucion Obtenida:\n",
      "[81.42717497556207, 15, 1.89227761485826, 4, 0, 0.4252199413489741, 0.8528836754643203, 0.15951124144672532]\n",
      "Valores:\n",
      "(5390.491726844193, 237911.6217744731, 0.3398630773040216, 0.4552218587825476)\n"
     ]
    }
   ],
   "source": [
    "#Ahora, tomando, por ejemplo, el fitness1 y la mutación2 (más fuerte que mutación 1), vamos a observar la influencia de otorgar una mayor probabilidad de mutación.\n",
    "helice = ProblemaGeneticoHelice(decodificacion,muta2,cruzarOrden,fitness1)              \n",
    "salida = algoritmo_genetico(helice,5,max,6,100,cruza_padres_NO_destructiva,0.7,0.8) #Ponemos 80% de mutación\n",
    "print(f\"Valor obtenido={salida[1]}\\nSolucion Obtenida:\\n{salida[0]}\\nValores:\\n{salida[2]}\")\n",
    "#Observamos que no se consigue el fitness deseado por fitness1, dado que el fitness obtenido es relativamente bajo, comparado con los obtenidos anterioremente (alrdedor de 30000),\n",
    "#debido a un radio bastante elevado y a una tracción no tan elevada como podría ser (en casos anteriores rondaba 30000 y ahora es de 5000). De esto podemos deducir que una mayor probabilidad de mutación\n",
    "#no es recomendable para alcanzar el cromosoma óptimo."
   ]
  },
  {
   "cell_type": "code",
   "execution_count": 94,
   "metadata": {},
   "outputs": [
    {
     "name": "stdout",
     "output_type": "stream",
     "text": [
      "Valor obtenido=-1000\n",
      "Solucion Obtenida:\n",
      "[169.50146627565982, 0, 1.0295698924731183, 2, 0, -13.137829912023461, 7.426686217008797, 0.021654447702834798]\n",
      "Valores:\n",
      "(0, 0, 0, 0.5131566396958686)\n"
     ]
    }
   ],
   "source": [
    "#A continuación, vamos a observar la influencia de otorgar una mayor presión de torneo con el fitness2 (codificación de despegue).\n",
    "helice = ProblemaGeneticoHelice(decodificacion_despegue,muta1,cruzarOrden,fitness3)              \n",
    "salida = algoritmo_genetico(helice,25,max,6,100,cruza_padres_NO_destructiva,0.7,0.3) #Ponemos una presión de torneo de 25 (muy elitista)\n",
    "print(f\"Valor obtenido={salida[1]}\\nSolucion Obtenida:\\n{salida[0]}\\nValores:\\n{salida[2]}\")\n",
    "#Como se observa en la salida, el algoritmo ni siquiere consigue la tracción mínima en el despegue, de ahí que el fitness sea -1000. Podríamos extrañarnos ante esto, ya que en cada torneo \n",
    "#tomamos los mejores cromosomas, pero como ya hemos visto en clase, los cruces con una selección  elitista no garantizan unos resultados óptimos, dado que un cruce de un cromosoma con poco fitness \n",
    "#con otro con buen fitness puede generar cromosomas con mayor fitness que al cruzar dos cromosomas con buen fitness, de ahí que no sea recomendable seguir una política de selección demasiado elitista, si no que\n",
    "#hay que intentar que en los cruces aparezcan cromosomas no tan buenos."
   ]
  },
  {
   "cell_type": "code",
   "execution_count": 99,
   "metadata": {},
   "outputs": [
    {
     "name": "stdout",
     "output_type": "stream",
     "text": [
      "Valor obtenido=26827.154373403606\n",
      "Solucion Obtenida:\n",
      "[196.48093841642228, 15, 1.847702834799609, 4, 0, 0.5131964809384169, -0.5400782013685239, 0.13889540566959924]\n",
      "Valores:\n",
      "(26829.002076238405, 3938490.187003076, 0.10218002636431649, 1.0684239129578572)\n"
     ]
    }
   ],
   "source": [
    "#Finalmente, vamos a observar el efecto de aumentar el número de generaciones.\n",
    "helice = ProblemaGeneticoHelice(decodificacion,muta1,cruzarOrden,fitness1)               \n",
    "salida = algoritmo_genetico(helice,5,max,10,100,cruza_padres_NO_destructiva,0.7,0.3) #Ponemos 10 generaciones.\n",
    "print(f\"Valor obtenido={salida[1]}\\nSolucion Obtenida:\\n{salida[0]}\\nValores:\\n{salida[2]}\")\n",
    "#Observamos que aumentar el número de generaciones ha tenido un buen efecto sobre los resultados, como era de esperar. El radio sigue sin minimizarse, por\n",
    "#la razón expuesta cuando probamos fitness 1, pero la tracción es más alta que en los dos casos probados con fitness 1, luego, el cromosoma óptimo no ha empeorado con las generaciones \n",
    "#7 a la 10. Esto se debe en parte a que los cruces son no destructivos, lo cual implica que en la nueva generación el cromosoma óptimo o bien es el mismo o bien mejor que en la anterior genración \n",
    "#(salvo que las mutaciones tengan un efecto negativo)."
   ]
  }
 ],
 "metadata": {
  "kernelspec": {
   "display_name": "Python 3 (ipykernel)",
   "language": "python",
   "name": "python3"
  },
  "language_info": {
   "codemirror_mode": {
    "name": "ipython",
    "version": 3
   },
   "file_extension": ".py",
   "mimetype": "text/x-python",
   "name": "python",
   "nbconvert_exporter": "python",
   "pygments_lexer": "ipython3",
   "version": "3.12.6"
  }
 },
 "nbformat": 4,
 "nbformat_minor": 4
}
